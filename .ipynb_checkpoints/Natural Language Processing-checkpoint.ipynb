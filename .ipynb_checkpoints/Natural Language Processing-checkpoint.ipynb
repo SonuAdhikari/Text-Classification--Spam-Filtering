{
 "cells": [
  {
   "cell_type": "markdown",
   "metadata": {},
   "source": [
    "# natural lang processing"
   ]
  },
  {
   "cell_type": "code",
   "execution_count": null,
   "metadata": {},
   "outputs": [],
   "source": [
    "import nltk"
   ]
  },
  {
   "cell_type": "code",
   "execution_count": null,
   "metadata": {},
   "outputs": [],
   "source": [
    "nltk.download()"
   ]
  },
  {
   "cell_type": "code",
   "execution_count": null,
   "metadata": {},
   "outputs": [],
   "source": [
    "paragraph = \"\"\"After eight years as your President, I still believe that. And it's not just my belief. It's the beating heart of our American idea — our bold experiment in self-government. It's the conviction that we are all created equal, endowed by our Creator with certain unalienable rights, among them life, liberty, and the pursuit of happiness. It's the insistence that these rights, while self-evident, have never been self-executing; that We, the People, through the instrument of our democracy, can form a more perfect union.\n",
    "\n",
    "What a radical idea. A great gift that our Founders gave to us: The freedom to chase our individual dreams through our sweat and toil and imagination, and the imperative to strive together, as well, to achieve a common good, a greater good.\n",
    "\n",
    "For 240 years, our nation's call to citizenship has given work and purpose to each new generation. It's what led patriots to choose republic over tyranny, pioneers to trek west, slaves to brave that makeshift railroad to freedom. It's what pulled immigrants and refugees across oceans and the Rio Grande. (Applause.) It's what pushed women to reach for the ballot. It's what powered workers to organize. It's why GIs gave their lives at Omaha Beach and Iwo Jima, Iraq and Afghanistan. And why men and women from Selma to Stonewall were prepared to give theirs, as well. (Applause.)\n",
    "\n",
    "So that's what we mean when we say America is exceptional — not that our nation has been flawless from the start, but that we have shown the capacity to change and make life better for those who follow. Yes, our progress has been uneven. The work of democracy has always been hard. It's always been contentious. Sometimes it's been bloody. For every two steps forward, it often feels we take one step back. But the long sweep of America has been defined by forward motion, a constant widening of our founding creed to embrace all and not just some. (Applause.)\n",
    "\n",
    "If I had told you eight years ago that America would reverse a great recession, reboot our auto industry, and unleash the longest stretch of job creation in our history — (applause) — if I had told you that we would open up a new chapter with the Cuban people, shut down Iran's nuclear weapons program without firing a shot, take out the mastermind of 9/11 — (applause) — if I had told you that we would win marriage equality, and secure the right to health insurance for another 20 million of our fellow citizens — (applause) — if I had told you all that, you might have said our sights were set a little too high. But that's what we did. (Applause.) That's what you did.\n",
    "\n",
    "You were the change. You answered people's hopes, and because of you, by almost every measure, America is a better, stronger place than it was when we started. (Applause.)\n",
    "\n",
    "In 10 days, the world will witness a hallmark of our democracy.\"\"\""
   ]
  },
  {
   "cell_type": "code",
   "execution_count": null,
   "metadata": {},
   "outputs": [],
   "source": [
    "from nltk.tokenize import sent_tokenize, word_tokenize"
   ]
  },
  {
   "cell_type": "code",
   "execution_count": null,
   "metadata": {},
   "outputs": [],
   "source": [
    "#tokenizing paragraph\n",
    "sentences = nltk.sent_tokenize(paragraph)"
   ]
  },
  {
   "cell_type": "code",
   "execution_count": null,
   "metadata": {},
   "outputs": [],
   "source": [
    "print(sentences)"
   ]
  },
  {
   "cell_type": "code",
   "execution_count": null,
   "metadata": {},
   "outputs": [],
   "source": []
  },
  {
   "cell_type": "code",
   "execution_count": null,
   "metadata": {},
   "outputs": [],
   "source": []
  }
 ],
 "metadata": {
  "kernelspec": {
   "display_name": "Python 3",
   "language": "python",
   "name": "python3"
  },
  "language_info": {
   "codemirror_mode": {
    "name": "ipython",
    "version": 3
   },
   "file_extension": ".py",
   "mimetype": "text/x-python",
   "name": "python",
   "nbconvert_exporter": "python",
   "pygments_lexer": "ipython3",
   "version": "3.8.3rc1"
  }
 },
 "nbformat": 4,
 "nbformat_minor": 4
}
